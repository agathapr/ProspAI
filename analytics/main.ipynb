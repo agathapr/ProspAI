{
 "cells": [
  {
   "cell_type": "markdown",
   "metadata": {},
   "source": [
    "# ProspAI - MVP algoritmo de predição"
   ]
  },
  {
   "cell_type": "code",
   "execution_count": 32,
   "metadata": {},
   "outputs": [],
   "source": [
    "import pandas as pd\n",
    "import seaborn as sns\n",
    "import matplotlib.pyplot as plt\n",
    "from sklearn.model_selection import train_test_split, GridSearchCV\n",
    "from sklearn.multioutput import MultiOutputClassifier\n",
    "from sklearn.pipeline import Pipeline\n",
    "from sklearn.compose import ColumnTransformer\n",
    "from sklearn.preprocessing import StandardScaler\n",
    "from sklearn.metrics import accuracy_score\n",
    "from xgboost import XGBClassifier\n",
    "import joblib"
   ]
  },
  {
   "cell_type": "code",
   "execution_count": 33,
   "metadata": {},
   "outputs": [],
   "source": [
    "url = '../data/dataset_prospai.xlsx'\n",
    "df = pd.read_excel(url)"
   ]
  },
  {
   "cell_type": "markdown",
   "metadata": {},
   "source": [
    "### Análise Exploratória\n"
   ]
  },
  {
   "cell_type": "code",
   "execution_count": 34,
   "metadata": {},
   "outputs": [
    {
     "data": {
      "text/html": [
       "<div>\n",
       "<style scoped>\n",
       "    .dataframe tbody tr th:only-of-type {\n",
       "        vertical-align: middle;\n",
       "    }\n",
       "\n",
       "    .dataframe tbody tr th {\n",
       "        vertical-align: top;\n",
       "    }\n",
       "\n",
       "    .dataframe thead th {\n",
       "        text-align: right;\n",
       "    }\n",
       "</style>\n",
       "<table border=\"1\" class=\"dataframe\">\n",
       "  <thead>\n",
       "    <tr style=\"text-align: right;\">\n",
       "      <th></th>\n",
       "      <th>Gênero</th>\n",
       "      <th>Faixa Etária</th>\n",
       "      <th>Escolaridade</th>\n",
       "      <th>Localização</th>\n",
       "      <th>Linguagem</th>\n",
       "      <th>Tipo de Campanha Mais Eficaz</th>\n",
       "      <th>Canal Preferido</th>\n",
       "    </tr>\n",
       "  </thead>\n",
       "  <tbody>\n",
       "    <tr>\n",
       "      <th>0</th>\n",
       "      <td>Feminino</td>\n",
       "      <td>45-54</td>\n",
       "      <td>Superior Completo</td>\n",
       "      <td>Sudeste</td>\n",
       "      <td>Normal/Meio-termo</td>\n",
       "      <td>Campanhas de Desconto</td>\n",
       "      <td>Email</td>\n",
       "    </tr>\n",
       "    <tr>\n",
       "      <th>1</th>\n",
       "      <td>Feminino</td>\n",
       "      <td>35-44</td>\n",
       "      <td>Superior Completo</td>\n",
       "      <td>Nordeste</td>\n",
       "      <td>Normal/Meio-termo</td>\n",
       "      <td>Campanhas de Novos Produtos</td>\n",
       "      <td>SMS</td>\n",
       "    </tr>\n",
       "    <tr>\n",
       "      <th>2</th>\n",
       "      <td>Masculino</td>\n",
       "      <td>35-44</td>\n",
       "      <td>Superior Incompleto</td>\n",
       "      <td>Norte</td>\n",
       "      <td>Normal/Meio-termo</td>\n",
       "      <td>Campanhas de Novos Produtos</td>\n",
       "      <td>SMS</td>\n",
       "    </tr>\n",
       "    <tr>\n",
       "      <th>3</th>\n",
       "      <td>Outro</td>\n",
       "      <td>45-54</td>\n",
       "      <td>Fundamental Incompleto</td>\n",
       "      <td>Centro-Oeste</td>\n",
       "      <td>Normal/Meio-termo</td>\n",
       "      <td>Campanhas de Referência</td>\n",
       "      <td>SMS</td>\n",
       "    </tr>\n",
       "    <tr>\n",
       "      <th>4</th>\n",
       "      <td>Feminino</td>\n",
       "      <td>65+</td>\n",
       "      <td>Superior Completo</td>\n",
       "      <td>Norte</td>\n",
       "      <td>Formal</td>\n",
       "      <td>Campanhas de Retenção</td>\n",
       "      <td>SMS</td>\n",
       "    </tr>\n",
       "  </tbody>\n",
       "</table>\n",
       "</div>"
      ],
      "text/plain": [
       "      Gênero Faixa Etária            Escolaridade   Localização  \\\n",
       "0   Feminino        45-54       Superior Completo       Sudeste   \n",
       "1   Feminino        35-44       Superior Completo      Nordeste   \n",
       "2  Masculino        35-44     Superior Incompleto         Norte   \n",
       "3      Outro        45-54  Fundamental Incompleto  Centro-Oeste   \n",
       "4   Feminino          65+       Superior Completo         Norte   \n",
       "\n",
       "           Linguagem Tipo de Campanha Mais Eficaz Canal Preferido  \n",
       "0  Normal/Meio-termo        Campanhas de Desconto           Email  \n",
       "1  Normal/Meio-termo  Campanhas de Novos Produtos             SMS  \n",
       "2  Normal/Meio-termo  Campanhas de Novos Produtos             SMS  \n",
       "3  Normal/Meio-termo      Campanhas de Referência             SMS  \n",
       "4             Formal        Campanhas de Retenção             SMS  "
      ]
     },
     "execution_count": 34,
     "metadata": {},
     "output_type": "execute_result"
    }
   ],
   "source": [
    "df.head()"
   ]
  },
  {
   "cell_type": "code",
   "execution_count": 35,
   "metadata": {},
   "outputs": [
    {
     "name": "stdout",
     "output_type": "stream",
     "text": [
      "<class 'pandas.core.frame.DataFrame'>\n",
      "RangeIndex: 3000 entries, 0 to 2999\n",
      "Data columns (total 7 columns):\n",
      " #   Column                        Non-Null Count  Dtype \n",
      "---  ------                        --------------  ----- \n",
      " 0   Gênero                        3000 non-null   object\n",
      " 1   Faixa Etária                  3000 non-null   object\n",
      " 2   Escolaridade                  3000 non-null   object\n",
      " 3   Localização                   3000 non-null   object\n",
      " 4   Linguagem                     3000 non-null   object\n",
      " 5   Tipo de Campanha Mais Eficaz  3000 non-null   object\n",
      " 6   Canal Preferido               3000 non-null   object\n",
      "dtypes: object(7)\n",
      "memory usage: 164.2+ KB\n"
     ]
    }
   ],
   "source": [
    "df.info()"
   ]
  },
  {
   "cell_type": "code",
   "execution_count": 36,
   "metadata": {},
   "outputs": [
    {
     "data": {
      "text/plain": [
       "Gênero                          3\n",
       "Faixa Etária                    7\n",
       "Escolaridade                    7\n",
       "Localização                     5\n",
       "Linguagem                       3\n",
       "Tipo de Campanha Mais Eficaz    5\n",
       "Canal Preferido                 5\n",
       "dtype: int64"
      ]
     },
     "execution_count": 36,
     "metadata": {},
     "output_type": "execute_result"
    }
   ],
   "source": [
    "df.nunique()"
   ]
  },
  {
   "cell_type": "code",
   "execution_count": 37,
   "metadata": {},
   "outputs": [
    {
     "data": {
      "image/png": "[encoded data removed]",
      "text/plain": [
       "<Figure size 1500x1000 with 4 Axes>"
      ]
     },
     "metadata": {},
     "output_type": "display_data"
    }
   ],
   "source": [
    "fig, ax = plt.subplots(2, 2, figsize=(15, 10))\n",
    "sns.countplot(x='Gênero', data=df, ax=ax[0, 0])\n",
    "sns.countplot(x='Faixa Etária', data=df, ax=ax[0, 1])\n",
    "sns.countplot(x='Escolaridade', data=df, ax=ax[1, 0])\n",
    "sns.countplot(x='Localização', data=df, ax=ax[1, 1])\n",
    "plt.tight_layout()\n",
    "plt.show()"
   ]
  },
  {
   "cell_type": "markdown",
   "metadata": {},
   "source": [
    "### Limpeza e Organização dos Dados"
   ]
  },
  {
   "cell_type": "code",
   "execution_count": 38,
   "metadata": {},
   "outputs": [],
   "source": [
    "df.rename(columns={'Tipo de Campanha Mais Eficaz': 'Campanha Preferida'}, inplace=True)\n",
    "df.rename(columns={'Linguagem': 'Linguagem Preferida'}, inplace=True)"
   ]
  },
  {
   "cell_type": "code",
   "execution_count": 39,
   "metadata": {},
   "outputs": [],
   "source": [
    "df_clean = df"
   ]
  },
  {
   "cell_type": "code",
   "execution_count": 40,
   "metadata": {},
   "outputs": [
    {
     "name": "stderr",
     "output_type": "stream",
     "text": [
      "C:\\Users\\AgathaPereiraPires\\AppData\\Local\\Temp\\ipykernel_35020\\1365699776.py:6: FutureWarning: Downcasting behavior in `replace` is deprecated and will be removed in a future version. To retain the old behavior, explicitly call `result.infer_objects(copy=False)`. To opt-in to the future behavior, set `pd.set_option('future.no_silent_downcasting', True)`\n",
      "  df_clean['Gênero'] = df_clean['Gênero'].replace(maping)\n",
      "C:\\Users\\AgathaPereiraPires\\AppData\\Local\\Temp\\ipykernel_35020\\1365699776.py:17: FutureWarning: Downcasting behavior in `replace` is deprecated and will be removed in a future version. To retain the old behavior, explicitly call `result.infer_objects(copy=False)`. To opt-in to the future behavior, set `pd.set_option('future.no_silent_downcasting', True)`\n",
      "  df_clean['Faixa Etária'] = df_clean['Faixa Etária'].replace(maping2)\n",
      "C:\\Users\\AgathaPereiraPires\\AppData\\Local\\Temp\\ipykernel_35020\\1365699776.py:28: FutureWarning: Downcasting behavior in `replace` is deprecated and will be removed in a future version. To retain the old behavior, explicitly call `result.infer_objects(copy=False)`. To opt-in to the future behavior, set `pd.set_option('future.no_silent_downcasting', True)`\n",
      "  df_clean['Escolaridade'] = df_clean['Escolaridade'].replace(maping)\n",
      "C:\\Users\\AgathaPereiraPires\\AppData\\Local\\Temp\\ipykernel_35020\\1365699776.py:37: FutureWarning: Downcasting behavior in `replace` is deprecated and will be removed in a future version. To retain the old behavior, explicitly call `result.infer_objects(copy=False)`. To opt-in to the future behavior, set `pd.set_option('future.no_silent_downcasting', True)`\n",
      "  df_clean['Localização'] = df_clean['Localização'].replace(maping)\n",
      "C:\\Users\\AgathaPereiraPires\\AppData\\Local\\Temp\\ipykernel_35020\\1365699776.py:44: FutureWarning: Downcasting behavior in `replace` is deprecated and will be removed in a future version. To retain the old behavior, explicitly call `result.infer_objects(copy=False)`. To opt-in to the future behavior, set `pd.set_option('future.no_silent_downcasting', True)`\n",
      "  df_clean['Linguagem Preferida'] = df_clean['Linguagem Preferida'].replace(maping)\n",
      "C:\\Users\\AgathaPereiraPires\\AppData\\Local\\Temp\\ipykernel_35020\\1365699776.py:53: FutureWarning: Downcasting behavior in `replace` is deprecated and will be removed in a future version. To retain the old behavior, explicitly call `result.infer_objects(copy=False)`. To opt-in to the future behavior, set `pd.set_option('future.no_silent_downcasting', True)`\n",
      "  df_clean['Campanha Preferida'] = df_clean['Campanha Preferida'].replace(maping)\n",
      "C:\\Users\\AgathaPereiraPires\\AppData\\Local\\Temp\\ipykernel_35020\\1365699776.py:62: FutureWarning: Downcasting behavior in `replace` is deprecated and will be removed in a future version. To retain the old behavior, explicitly call `result.infer_objects(copy=False)`. To opt-in to the future behavior, set `pd.set_option('future.no_silent_downcasting', True)`\n",
      "  df_clean['Canal Preferido'] = df_clean['Canal Preferido'].replace(maping)\n"
     ]
    }
   ],
   "source": [
    "maping = {\n",
    "    'Masculino' : 0,\n",
    "    'Feminino': 1,\n",
    "    'Outro': 2\n",
    "}\n",
    "df_clean['Gênero'] = df_clean['Gênero'].replace(maping)\n",
    "\n",
    "maping2 = {\n",
    "    '0-17' : 0,\n",
    "    '18-24': 1,\n",
    "    '25-34': 2,\n",
    "    '35-44': 3,\n",
    "    '45-54': 4,\n",
    "    '55-64': 5,\n",
    "    '65+': 6\n",
    "}\n",
    "df_clean['Faixa Etária'] = df_clean['Faixa Etária'].replace(maping2)\n",
    "\n",
    "maping = {\n",
    "    'Fundamental Incompleto' : 0,\n",
    "    'Fundamental Completo': 1,\n",
    "    'Médio Incompleto': 2,\n",
    "    'Médio Completo': 3,\n",
    "    'Superior Incompleto': 4,\n",
    "    'Superior Completo': 5,\n",
    "    'Pós-graduação': 6\n",
    "}\n",
    "df_clean['Escolaridade'] = df_clean['Escolaridade'].replace(maping)\n",
    "\n",
    "maping = {\n",
    "    'Sul' : 0,\n",
    "    'Sudeste': 1,\n",
    "    'Centro-Oeste': 2,\n",
    "    'Norte': 3,\n",
    "    'Nordeste': 4\n",
    "}\n",
    "df_clean['Localização'] = df_clean['Localização'].replace(maping)\n",
    "\n",
    "maping = {\n",
    "    'Informal': 0,\n",
    "    'Normal/Meio-termo': 1,\n",
    "    'Formal': 2\n",
    "}\n",
    "df_clean['Linguagem Preferida'] = df_clean['Linguagem Preferida'].replace(maping)\n",
    "\n",
    "maping = {\n",
    "    'Campanhas de Desconto': 0,\n",
    "    'Campanhas de Novos Produtos': 1,\n",
    "    'Campanhas de Referência': 2,\n",
    "    'Campanhas de Retenção': 3,\n",
    "    'Programas de Fidelidade': 4\n",
    "}\n",
    "df_clean['Campanha Preferida'] = df_clean['Campanha Preferida'].replace(maping)\n",
    "\n",
    "maping = {\n",
    "    'Email': 0,\n",
    "    'WhatsApp': 1,\n",
    "    'SMS': 2,\n",
    "    'Redes Sociais': 3,\n",
    "    'App Notificações': 4\n",
    "}\n",
    "df_clean['Canal Preferido'] = df_clean['Canal Preferido'].replace(maping)"
   ]
  },
  {
   "cell_type": "code",
   "execution_count": 41,
   "metadata": {},
   "outputs": [
    {
     "data": {
      "text/html": [
       "<div>\n",
       "<style scoped>\n",
       "    .dataframe tbody tr th:only-of-type {\n",
       "        vertical-align: middle;\n",
       "    }\n",
       "\n",
       "    .dataframe tbody tr th {\n",
       "        vertical-align: top;\n",
       "    }\n",
       "\n",
       "    .dataframe thead th {\n",
       "        text-align: right;\n",
       "    }\n",
       "</style>\n",
       "<table border=\"1\" class=\"dataframe\">\n",
       "  <thead>\n",
       "    <tr style=\"text-align: right;\">\n",
       "      <th></th>\n",
       "      <th>Gênero</th>\n",
       "      <th>Faixa Etária</th>\n",
       "      <th>Escolaridade</th>\n",
       "      <th>Localização</th>\n",
       "      <th>Linguagem Preferida</th>\n",
       "      <th>Campanha Preferida</th>\n",
       "      <th>Canal Preferido</th>\n",
       "    </tr>\n",
       "  </thead>\n",
       "  <tbody>\n",
       "    <tr>\n",
       "      <th>0</th>\n",
       "      <td>1</td>\n",
       "      <td>4</td>\n",
       "      <td>5</td>\n",
       "      <td>1</td>\n",
       "      <td>1</td>\n",
       "      <td>0</td>\n",
       "      <td>0</td>\n",
       "    </tr>\n",
       "    <tr>\n",
       "      <th>1</th>\n",
       "      <td>1</td>\n",
       "      <td>3</td>\n",
       "      <td>5</td>\n",
       "      <td>4</td>\n",
       "      <td>1</td>\n",
       "      <td>1</td>\n",
       "      <td>2</td>\n",
       "    </tr>\n",
       "    <tr>\n",
       "      <th>2</th>\n",
       "      <td>0</td>\n",
       "      <td>3</td>\n",
       "      <td>4</td>\n",
       "      <td>3</td>\n",
       "      <td>1</td>\n",
       "      <td>1</td>\n",
       "      <td>2</td>\n",
       "    </tr>\n",
       "    <tr>\n",
       "      <th>3</th>\n",
       "      <td>2</td>\n",
       "      <td>4</td>\n",
       "      <td>0</td>\n",
       "      <td>2</td>\n",
       "      <td>1</td>\n",
       "      <td>2</td>\n",
       "      <td>2</td>\n",
       "    </tr>\n",
       "    <tr>\n",
       "      <th>4</th>\n",
       "      <td>1</td>\n",
       "      <td>6</td>\n",
       "      <td>5</td>\n",
       "      <td>3</td>\n",
       "      <td>2</td>\n",
       "      <td>3</td>\n",
       "      <td>2</td>\n",
       "    </tr>\n",
       "  </tbody>\n",
       "</table>\n",
       "</div>"
      ],
      "text/plain": [
       "   Gênero  Faixa Etária  Escolaridade  Localização  Linguagem Preferida  \\\n",
       "0       1             4             5            1                    1   \n",
       "1       1             3             5            4                    1   \n",
       "2       0             3             4            3                    1   \n",
       "3       2             4             0            2                    1   \n",
       "4       1             6             5            3                    2   \n",
       "\n",
       "   Campanha Preferida  Canal Preferido  \n",
       "0                   0                0  \n",
       "1                   1                2  \n",
       "2                   1                2  \n",
       "3                   2                2  \n",
       "4                   3                2  "
      ]
     },
     "execution_count": 41,
     "metadata": {},
     "output_type": "execute_result"
    }
   ],
   "source": [
    "df_clean.head()"
   ]
  },
  {
   "cell_type": "markdown",
   "metadata": {},
   "source": [
    "### Classificação | Treinando o modelo"
   ]
  },
  {
   "cell_type": "code",
   "execution_count": 42,
   "metadata": {},
   "outputs": [],
   "source": [
    "X = df_clean[['Gênero', 'Faixa Etária', 'Escolaridade', 'Localização']]\n",
    "y = df_clean[['Campanha Preferida', 'Canal Preferido', 'Linguagem Preferida']]\n",
    "\n",
    "X_train, X_test, y_train, y_test = train_test_split(X, y, test_size=0.2, random_state=42)"
   ]
  },
  {
   "cell_type": "code",
   "execution_count": 43,
   "metadata": {},
   "outputs": [
    {
     "name": "stderr",
     "output_type": "stream",
     "text": [
      "c:\\Users\\AgathaPereiraPires\\AppData\\Local\\Programs\\Python\\Python312\\Lib\\site-packages\\sklearn\\model_selection\\_search.py:1052: UserWarning: One or more of the test scores are non-finite: [nan nan nan nan nan nan nan nan nan nan nan nan nan nan nan nan nan nan]\n",
      "  warnings.warn(\n"
     ]
    },
    {
     "name": "stdout",
     "output_type": "stream",
     "text": [
      "Melhores parâmetros: {'classifier__estimator__learning_rate': 0.01, 'classifier__estimator__max_depth': 3, 'classifier__estimator__n_estimators': 100}\n"
     ]
    }
   ],
   "source": [
    "numeric_features = ['Gênero', 'Faixa Etária', 'Escolaridade', 'Localização']\n",
    "\n",
    "preprocessor = ColumnTransformer(\n",
    "    transformers=[\n",
    "        ('num', StandardScaler(), numeric_features),\n",
    "    ])\n",
    "\n",
    "pipeline = Pipeline(steps=[\n",
    "    ('preprocessor', preprocessor),\n",
    "    ('classifier', MultiOutputClassifier(XGBClassifier()))\n",
    "])\n",
    "\n",
    "param_grid = {\n",
    "    'classifier__estimator__n_estimators': [100, 200],\n",
    "    'classifier__estimator__max_depth': [3, 5, 7],\n",
    "    'classifier__estimator__learning_rate': [0.01, 0.1, 0.2]\n",
    "}\n",
    "\n",
    "grid_search = GridSearchCV(pipeline, param_grid, cv=5, scoring='accuracy', n_jobs=-1)\n",
    "\n",
    "grid_search.fit(X_train, y_train)\n",
    "\n",
    "best_model = grid_search.best_estimator_\n",
    "print(f\"Melhores parâmetros: {grid_search.best_params_}\")\n",
    "\n",
    "y_pred = best_model.predict(X_test)"
   ]
  },
  {
   "cell_type": "code",
   "execution_count": 47,
   "metadata": {},
   "outputs": [
    {
     "name": "stdout",
     "output_type": "stream",
     "text": [
      "Acurácia Campanha Preferida: 0.20666666666666667\n",
      "Acurácia Canal Preferido: 0.215\n",
      "Acurácia Linguagem Preferida: 1.0\n"
     ]
    }
   ],
   "source": [
    "accuracy_campanha = accuracy_score(y_test['Campanha Preferida'], y_pred[:, 0])\n",
    "accuracy_canal = accuracy_score(y_test['Canal Preferido'], y_pred[:, 1])\n",
    "accuracy_linguagem = accuracy_score(y_test['Linguagem Preferida'], y_pred[:, 2])\n",
    "\n",
    "print(f'Acurácia Campanha Preferida: {accuracy_campanha}')\n",
    "print(f'Acurácia Canal Preferido: {accuracy_canal}')\n",
    "print(f'Acurácia Linguagem Preferida: {accuracy_linguagem}')"
   ]
  },
  {
   "cell_type": "code",
   "execution_count": 48,
   "metadata": {},
   "outputs": [
    {
     "name": "stdout",
     "output_type": "stream",
     "text": [
      "Predição para o novo cliente:\n",
      "Campanha Preferida: Campanhas de Desconto\n",
      "Canal Preferido: Email\n",
      "Linguagem Preferida: Informal\n"
     ]
    }
   ],
   "source": [
    "novo_cliente = pd.DataFrame({\n",
    "    'Gênero': [1],          # Exemplo: 1 para 'Feminino'\n",
    "    'Faixa Etária': [2],    # Exemplo: 2 para '25-34'\n",
    "    'Escolaridade': [5],    # Exemplo: 5 para 'Superior Completo'\n",
    "    'Localização': [1]      # Exemplo: 1 para 'Sudeste'\n",
    "})\n",
    "\n",
    "predicao_novo_cliente = best_model.predict(novo_cliente)\n",
    "\n",
    "mapa_inverso_campanha = {0: 'Campanhas de Desconto', 1: 'Campanhas de Novos Produtos', 2: 'Campanhas de Referência', 3: 'Campanhas de Retenção', 4: 'Programas de Fidelidade'}\n",
    "mapa_inverso_canal = {0: 'Email', 1: 'WhatsApp', 2: 'SMS', 3: 'Redes Sociais', 4: 'App Notificações'}\n",
    "mapa_inverso_linguagem = {0: 'Informal', 1: 'Normal/Meio-termo', 2: 'Formal'}\n",
    "\n",
    "campanha_predita = mapa_inverso_campanha[predicao_novo_cliente[0][0]]\n",
    "canal_predito = mapa_inverso_canal[predicao_novo_cliente[0][1]]\n",
    "linguagem_predita = mapa_inverso_linguagem[predicao_novo_cliente[0][2]]\n",
    "\n",
    "print(f\"Predição para o novo cliente:\")\n",
    "print(f\"Campanha Preferida: {campanha_predita}\")\n",
    "print(f\"Canal Preferido: {canal_predito}\")\n",
    "print(f\"Linguagem Preferida: {linguagem_predita}\")"
   ]
  },
  {
   "cell_type": "code",
   "execution_count": 46,
   "metadata": {},
   "outputs": [
    {
     "data": {
      "text/plain": [
       "['modelo_marketing.pkl']"
      ]
     },
     "execution_count": 46,
     "metadata": {},
     "output_type": "execute_result"
    }
   ],
   "source": [
    "joblib.dump(best_model, 'modelo_marketing.pkl')"
   ]
  }
 ],
 "metadata": {
  "kernelspec": {
   "display_name": "Python 3",
   "language": "python",
   "name": "python3"
  },
  "language_info": {
   "codemirror_mode": {
    "name": "ipython",
    "version": 3
   },
   "file_extension": ".py",
   "mimetype": "text/x-python",
   "name": "python",
   "nbconvert_exporter": "python",
   "pygments_lexer": "ipython3",
   "version": "3.12.2"
  }
 },
 "nbformat": 4,
 "nbformat_minor": 2
}
